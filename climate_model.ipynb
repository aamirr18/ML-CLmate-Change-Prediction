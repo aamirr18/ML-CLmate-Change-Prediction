{
 "cells": [
  {
   "cell_type": "code",
   "execution_count": 2,
   "id": "dd511a60",
   "metadata": {},
   "outputs": [],
   "source": [
    "# Importing required libraries for the model\n",
    "import pandas as pd\n",
    "\n",
    "# Feature Scaling libraries\n",
    "from sklearn.preprocessing import OneHotEncoder\n",
    "from sklearn.preprocessing import MinMaxScaler\n",
    "\n",
    "# Machine learning algorithm\n",
    "from sklearn.ensemble import GradientBoostingRegressor\n",
    "\n",
    "#For Pickle\n",
    "import pickle\n",
    "\n",
    "## Importing Dataset\n",
    "df = pd.read_csv(\"C:\\\\Users\\\\admin\\\\yield_df.csv\") #Change the filepath\n",
    "\n",
    "# Categorical value treatment\n",
    "df_1 = pd.get_dummies(df, columns=['Area',\"Item\"], prefix = ['Country',\"Item\"])\n",
    "# Splitting the data into X & Y\n",
    "x=df_1.loc[:, df_1.columns != 'hg/ha_yield']\n",
    "y=df['hg/ha_yield']\n",
    "\n",
    "\n",
    "#Scaling the data\n",
    "from sklearn.preprocessing import MinMaxScaler\n",
    "scaler=MinMaxScaler()\n",
    "x_1=scaler.fit_transform(x) \n",
    "\n",
    "## Fitting the model\n",
    "gbr = GradientBoostingRegressor(max_depth=4, min_samples_leaf=4, min_samples_split=10, n_estimators=150)\n",
    "gbr.fit(x_1, y)\n",
    "\n",
    "## Saving model to disk\n",
    "pickle.dump(gbr, open('climate_model.pkl','wb'))"
   ]
  },
  {
   "cell_type": "code",
   "execution_count": null,
   "id": "f2567167",
   "metadata": {},
   "outputs": [],
   "source": []
  }
 ],
 "metadata": {
  "kernelspec": {
   "display_name": "Python 3 (ipykernel)",
   "language": "python",
   "name": "python3"
  },
  "language_info": {
   "codemirror_mode": {
    "name": "ipython",
    "version": 3
   },
   "file_extension": ".py",
   "mimetype": "text/x-python",
   "name": "python",
   "nbconvert_exporter": "python",
   "pygments_lexer": "ipython3",
   "version": "3.9.15"
  }
 },
 "nbformat": 4,
 "nbformat_minor": 5
}
